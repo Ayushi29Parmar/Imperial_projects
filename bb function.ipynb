{
 "cells": [
  {
   "cell_type": "code",
   "execution_count": 15,
   "id": "b44a0ded",
   "metadata": {},
   "outputs": [],
   "source": [
    "import numpy as np\n",
    "from matplotlib import pyplot as plt\n",
    "from math import log10"
   ]
  },
  {
   "cell_type": "code",
   "execution_count": 7,
   "id": "53690022",
   "metadata": {},
   "outputs": [],
   "source": [
    "#blackbody function in terms of observed frequency, x\n",
    "def bb(x, z, Tdust, beta, a):\n",
    "    # beta value controls steepness of the tail of the RJ bb function\n",
    "    # define some constants\n",
    "    # nu0 constant defines the frequency at which the dust opacity is equal to 1\n",
    "    c,h,k,nu0= 3.0e8, 6.63e-34, 1.38e-23, 1.5e12\n",
    "    # convert to rest frame frequeny \n",
    "    x = (x*(1+z))\n",
    "    # define the blackbody function\n",
    "    B = (2 * h * x**3 / c**2) / (np.exp(h * x / (k * Tdust)) - 1)\n",
    "    return 10**a*(1-np.exp(-(x/nu0)**beta))*B #returns the bb flux density at the specified redshift"
   ]
  },
  {
   "cell_type": "markdown",
   "id": "dc2b3a50",
   "metadata": {},
   "source": [
    "can work out flux densities for a range of obserbed frequencies and then plot an SED (flux density vs wavelength)"
   ]
  },
  {
   "cell_type": "code",
   "execution_count": 9,
   "id": "7d2ffeea",
   "metadata": {},
   "outputs": [],
   "source": [
    "freq = [50e-6, 100e-6, 150e-6, 200e-6, 250e-6, 300e-6, 350e-6, 400e-6, 450e-6, 500e-6]"
   ]
  },
  {
   "cell_type": "code",
   "execution_count": 45,
   "id": "c2302c00",
   "metadata": {},
   "outputs": [
    {
     "name": "stdout",
     "output_type": "stream",
     "text": [
      "[2.302083333333334e+68, 2.7625000000000005e+69, 7.769531249999997e+69, 1.4733333333333337e+70, 3.836805555555556e+70, 5.594062499999998e+70, 8.685760416666667e+70, 1.4144000000000003e+71, 1.9579218749999993e+71, 2.4665178571428576e+71]\n"
     ]
    }
   ],
   "source": [
    "flux_dens = []\n",
    "for i in freq:\n",
    "    value = bb(i, 4, 80, 1, 100)/1e-29 #convert to mJy\n",
    "    flux_dens.append(value)\n",
    "print(flux_dens)\n",
    "    "
   ]
  },
  {
   "cell_type": "code",
   "execution_count": 40,
   "id": "39658cd3",
   "metadata": {},
   "outputs": [
    {
     "name": "stdout",
     "output_type": "stream",
     "text": [
      "[3.936212104064554e+30, 4.044130228669317e+30, 4.089039481781259e+30, 4.116830101462943e+30, 4.15839697902619e+30, 4.1747727314243854e+30, 4.193880784584654e+30, 4.2150572247668997e+30, 4.229179535859413e+30, 4.2392084264022984e+30]\n"
     ]
    }
   ],
   "source": [
    "Sv = []\n",
    "for i in flux_dens:\n",
    "    num = log10(i)/1e-29 #convert to mJy\n",
    "    Sv.append(num)\n",
    "print(Sv)"
   ]
  },
  {
   "cell_type": "code",
   "execution_count": 46,
   "id": "12f90a38",
   "metadata": {},
   "outputs": [
    {
     "data": {
      "image/png": "[encoded data removed]",
      "text/plain": [
       "<Figure size 432x288 with 1 Axes>"
      ]
     },
     "metadata": {
      "needs_background": "light"
     },
     "output_type": "display_data"
    }
   ],
   "source": [
    "fig = plt.figure()\n",
    "ax = fig.add_subplot(1,1,1)\n",
    "ax.set_xscale('log')\n",
    "ax.set_yscale('log')\n",
    "\n",
    "x = freq\n",
    "y = flux_dens\n",
    "ax.plot(x, y, 'ro')\n",
    "plt.show()"
   ]
  },
  {
   "cell_type": "code",
   "execution_count": 11,
   "id": "ffd11e36",
   "metadata": {},
   "outputs": [
    {
     "data": {
      "image/png": "[encoded data removed]",
      "text/plain": [
       "<Figure size 432x288 with 1 Axes>"
      ]
     },
     "metadata": {
      "needs_background": "light"
     },
     "output_type": "display_data"
    }
   ],
   "source": [
    "# SED, wavelength vs flux density\n",
    "x = freq\n",
    "y = flux_dens\n",
    "plt.plot(x,y,'ro')\n",
    "plt.xlabel(\"Wavelength\")\n",
    "plt.ylabel(\"Flux Density\")\n",
    "plt.show()"
   ]
  },
  {
   "cell_type": "code",
   "execution_count": 36,
   "id": "3f746407",
   "metadata": {},
   "outputs": [
    {
     "name": "stderr",
     "output_type": "stream",
     "text": [
      "<ipython-input-7-e27f28d8ee9d>:10: RuntimeWarning: divide by zero encountered in double_scalars\n",
      "  B = (2 * h * x**3 / c**2) / (np.exp(h * x / (k * Tdust)) - 1)\n",
      "<ipython-input-7-e27f28d8ee9d>:11: RuntimeWarning: invalid value encountered in double_scalars\n",
      "  return 10**a*(1-np.exp(-(x/nu0)**beta))*B #returns the bb flux density at the specified redshift\n"
     ]
    },
    {
     "data": {
      "image/png": "[encoded data removed]",
      "text/plain": [
       "<Figure size 432x288 with 1 Axes>"
      ]
     },
     "metadata": {
      "needs_background": "light"
     },
     "output_type": "display_data"
    }
   ],
   "source": [
    "fig = plt.figure()\n",
    "ax = fig.add_subplot(1,1,1)\n",
    "ax.set_xscale('log')\n",
    "ax.set_yscale('log')\n",
    "\n",
    "frequency = np.linspace(1e-6, 5000e-6, num=100)\n",
    "flux_D=[]\n",
    "for i in frequency:\n",
    "    val = bb(i, 3, 20, 1, 1)\n",
    "    flux_D.append(val)\n",
    "    \n",
    "ax.plot(frequency, flux_D, 'ro')\n",
    "plt.show()\n"
   ]
  },
  {
   "cell_type": "code",
   "execution_count": null,
   "id": "16054604",
   "metadata": {},
   "outputs": [],
   "source": [
    "T_CMB = 2.73 # Kelvin\n",
    "x1 = 230e9 # Hz\n",
    "flux_230 = bb(x1, z= ,Tdust=  , 1)\n",
    "x2 = 3e8/850e-3 # convert to frequency, Hz\n",
    "flux_850 = bb(x2, z= ,Tdust= , 1)\n",
    "ratio = flux_230/flux_850"
   ]
  },
  {
   "cell_type": "code",
   "execution_count": null,
   "id": "03a3ecec",
   "metadata": {},
   "outputs": [],
   "source": []
  }
 ],
 "metadata": {
  "kernelspec": {
   "display_name": "Python 3",
   "language": "python",
   "name": "python3"
  },
  "language_info": {
   "codemirror_mode": {
    "name": "ipython",
    "version": 3
   },
   "file_extension": ".py",
   "mimetype": "text/x-python",
   "name": "python",
   "nbconvert_exporter": "python",
   "pygments_lexer": "ipython3",
   "version": "3.8.8"
  }
 },
 "nbformat": 4,
 "nbformat_minor": 5
}
