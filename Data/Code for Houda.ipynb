{
 "cells": [
  {
   "cell_type": "code",
   "execution_count": 2,
   "id": "faf1b015-1011-441f-b755-672ff37e32e6",
   "metadata": {},
   "outputs": [],
   "source": [
    "import numpy as np\n",
    "import matplotlib.pyplot as plt \n",
    "import matplotlib.pylab as plb\n",
    "from matplotlib.patches import Circle\n",
    "from astropy.io import fits\n",
    "from astropy.utils.data import get_pkg_data_filename\n",
    "from astropy.nddata import Cutout2D\n",
    "from astropy import units as u\n",
    "from astropy.coordinates import SkyCoord\n",
    "from astropy.wcs import WCS\n",
    "from aplpy import FITSFigure\n",
    "from photutils.detection import DAOStarFinder\n",
    "from photutils.aperture import aperture_photometry, SkyCircularAperture, SkyCircularAnnulus, SkyEllipticalAperture, SkyEllipticalAnnulus, ApertureStats\n",
    "from astropy.stats import mad_std, SigmaClip, sigma_clipped_stats\n",
    "from astropy.table import Table"
   ]
  },
  {
   "cell_type": "markdown",
   "id": "c898444f-cf02-4c97-9925-1893f6890259",
   "metadata": {},
   "source": [
    "#### Function for when you have a fits image and want to make a cutout of it at a specific position and also want to overlay contours on the image."
   ]
  },
  {
   "cell_type": "code",
   "execution_count": 3,
   "id": "7dce37a8-077e-4059-b71f-a978f85956f1",
   "metadata": {},
   "outputs": [],
   "source": [
    "# function for making the cutouts and overlaying the contours\n",
    "def cutout2(image2_data, image2_header, ra, dec, v_min, v_max, w, h, s, Title):\n",
    "    # define the HDU for the image that you actually want to plot\n",
    "    image2 = fits.PrimaryHDU(data = image2_data, header = image2_header)\n",
    "    # define some plot parameters\n",
    "    fig = plt.figure(figsize=(5,5))\n",
    "    sns.set_style('ticks')\n",
    "    plt.rcParams.update({'font.size': 15, 'axes.linewidth': 2, 'xtick.major.size': 8, 'xtick.major.width': 2,\n",
    "                     'xtick.minor.size': 4, 'xtick.minor.width': 2, 'ytick.major.size': 8, 'ytick.major.width': 2,\n",
    "                     'ytick.minor.size': 4, 'ytick.minor.width': 2, 'xtick.major.pad': 15})\n",
    "    # define the image you want to plot and the colourbar you want to use\n",
    "    f = FITSFigure(image2, figure = fig, north = True)\n",
    "    f.recenter(ra, dec, width=w, height=h) #in degrees\n",
    "    f.show_colorscale(vmin=v_min, vmax=v_max, cmap = 'viridis', smooth=s, kernel='gauss', aspect='equal')\n",
    "    # add marker at the source center position. It will also plot a 10\" red cirlce around the source position.\n",
    "    f.show_circles(ra, dec, 0.00277778, edgecolor='red', linewidth=3, layer=False, coords_frame='world') # in degrees\n",
    "    # for reference:\n",
    "    # 0.00277778 degrees = 10\"\n",
    "    # 0.0166667 degree = 1'\n",
    "    \n",
    "    # This stuff just makes it look nice\n",
    "    f.tick_labels.set_font(size=15)\n",
    "    f.axis_labels.set_font(size=15)\n",
    "    f.set_title(Title, size=20)\n",
    "    f.ticks.set_length(5)\n",
    "    f.ticks.set_color('black')\n",
    "    f.ticks.set_linewidth(2)\n",
    "    f.axis_labels.set_ypad(0)\n",
    "    \n",
    "    # And this just plots the result\n",
    "    fig.canvas.draw()\n",
    "    # uncomment below line if you want to save the cutout every time you use use the function. And add 'name' to the list of required arguments at the top of this function\n",
    "    #plt.savefig(name, bbox_inches=\"tight\")\n",
    "    plt.show()"
   ]
  },
  {
   "cell_type": "markdown",
   "id": "75e8ceb1-10f1-4a4a-9e41-4a7da26912d4",
   "metadata": {},
   "source": [
    "#### Example:"
   ]
  },
  {
   "cell_type": "code",
   "execution_count": null,
   "id": "ff8b67f5-dea1-42d0-9360-9b57d3fc429c",
   "metadata": {},
   "outputs": [],
   "source": [
    "# open the fits image. Let's say my fits file is called galaxy.fits\n",
    "image = fits.open(\"galaxy.fits\")\n",
    "\n",
    "# separate the image into data and header. Below code is provided that the data and header are in the primary (ie, 0th) HDU.\n",
    "\n",
    "image_data = image[0].data[0][0] \n",
    "image_header = image[0].header[0][0]"
   ]
  },
  {
   "cell_type": "code",
   "execution_count": null,
   "id": "69b32898-133d-44c0-821b-7592493a175f",
   "metadata": {},
   "outputs": [],
   "source": [
    "# define a list for the contour levels if you want to overlay contours on your image\n",
    "\n",
    "SNR_image = [1, 2, 3, 4] # as an example "
   ]
  },
  {
   "cell_type": "code",
   "execution_count": null,
   "id": "5ee89f2b-e2eb-4181-9991-a0954a6dba6e",
   "metadata": {},
   "outputs": [],
   "source": [
    "# then just call the cutout function with the relevant arguments\n",
    "# ra and dec is the position in degrees of where you want the image to be centered, ie the coords of the source of interest\n",
    "# v_min and v_max you can get from ds9 \n",
    "# w and h are the width and height you want the cutout to be, given in degrees\n",
    "# s is the smoothing level. don't fully understand it but the value can either be None or an odd number e.g.1,3,5. Play around with the numbers and see which gives the smoothest image.\n",
    "# Title is whatever you want the image to be called. It will apear above the cutout.\n",
    "# name is the name you want to give to the save png of the cutout since in the function it automaticlly saves every time you use. I've commented out that line so it won't autosave, just uncomment it if you want it to autosaveimage_data, image_header, ra, dec, v_min, v_max, w, h, s, Title, name)"
   ]
  },
  {
   "cell_type": "code",
   "execution_count": null,
   "id": "25e97c9d-acd5-4e65-b67d-8efb14e9d0a1",
   "metadata": {},
   "outputs": [],
   "source": [
    "cutout2(image_data, image_header, ra, dec, v_min, v_max, w, h, s, Title)"
   ]
  }
 ],
 "metadata": {
  "kernelspec": {
   "display_name": "Python 3 (ipykernel)",
   "language": "python",
   "name": "python3"
  },
  "language_info": {
   "codemirror_mode": {
    "name": "ipython",
    "version": 3
   },
   "file_extension": ".py",
   "mimetype": "text/x-python",
   "name": "python",
   "nbconvert_exporter": "python",
   "pygments_lexer": "ipython3",
   "version": "3.9.12"
  }
 },
 "nbformat": 4,
 "nbformat_minor": 5
}
